{
 "cells": [
  {
   "cell_type": "code",
   "execution_count": null,
   "metadata": {},
   "outputs": [],
   "source": [
    "num=\"\"\n",
    "a=0\n",
    "b=0\n",
    "\n",
    "while num!=0:\n",
    "    num=int(input())\n",
    "    if(num>a):\n",
    "        b=a\n",
    "        a=num\n",
    "    if(num<a and num>b):\n",
    "        b=num\n",
    "print(b)\n"
   ]
  },
  {
   "cell_type": "code",
   "execution_count": null,
   "metadata": {},
   "outputs": [],
   "source": [
    "\n",
    "str=input()\n",
    "list = list(map(int, str.split(\" \")));\n",
    "for i in list:\n",
    "    if(list.count(i)==1):\n",
    "        print(i)\n",
    "\n",
    "\n",
    "def nums():\n",
    "    n=int(input())\n",
    "    if n==0:\n",
    "        print(n)\n",
    "        return 0\n",
    "    nums()\n",
    "    print(n)\n",
    "nums()\n"
   ]
  },
  {
   "cell_type": "code",
   "execution_count": null,
   "metadata": {},
   "outputs": [],
   "source": [
    "n=int(input())\n",
    "\n",
    "a = [[0] * n for i in range(n)]\n",
    "\n",
    "for i in range(len(a)):\n",
    "    a[i][len(a[i])-(i+1)]=1\n",
    "    for j in range(len(a[i])-i,len(a[i])):\n",
    "        a[i][j]=2\n",
    "    for j in range(len(a[i])):\n",
    "        print(a[i][j], end=' ')\n",
    "    print()\n",
    "\n"
   ]
  },
  {
   "cell_type": "code",
   "execution_count": null,
   "metadata": {},
   "outputs": [],
   "source": [
    "str=input()\n",
    "print(len(set(map(int, str.split(\" \")))))\n"
   ]
  },
  {
   "cell_type": "code",
   "execution_count": null,
   "metadata": {},
   "outputs": [],
   "source": [
    "\n",
    "def prov(list_1, list_2, name_1, name_2):\n",
    "    stop=\"\"\n",
    "    if not list_2:\n",
    "        return name_2\n",
    "    if (name_1==name_2):\n",
    "        return(name_1)\n",
    "    for i in list_1:\n",
    "            for k in list_2:\n",
    "                if i==k or name_2==i:\n",
    "                    stop=i\n",
    "                    break\n",
    "            if(stop==i):\n",
    "                break\n",
    "    return (stop)\n",
    "\n",
    "\n",
    "num=int(input())\n",
    "rod=dict()\n",
    "for i in range(num-1):\n",
    "    str=input()\n",
    "    rod[str[0:str.find(\" \")]] = str[str.find(\" \")+1:len(str)]\n",
    "num=int(input())\n",
    "list=[]\n",
    "for i in range(num):\n",
    "    str=input()\n",
    "    list.append( [str[0:str.find(\" \")], str[str.find(\" \")+1:len(str)]] )\n",
    "    \n",
    "    \n",
    "for j in range(len(list)):\n",
    "    list_1=[]\n",
    "    list_2=[]\n",
    "    if list[j][0] in rod:\n",
    "        list_1.append(rod[list[j][0]])\n",
    "    if list[j][1] in rod:\n",
    "        list_2.append(rod[list[j][1]])\n",
    "    for i in range(len(rod)):\n",
    "        if i==len(list_1):\n",
    "            break\n",
    "        if list_1[i] in rod:\n",
    "            list_1.append(rod[list_1[i]])\n",
    "\n",
    "    for i in range(len(rod)):\n",
    "        if i==len(list_2):\n",
    "            break\n",
    "        if list_2[i] in rod:\n",
    "            list_2.append(rod[list_2[i]])\n",
    "\n",
    "    #print(list_1)\n",
    "    #print(list_2)\n",
    "    \n",
    "    if len(list_1)>=len(list_2):\n",
    "        print(prov(list_1, list_2, list[j][0], list[j][1]))\n",
    "    else:\n",
    "        print(prov(list_2, list_1, list[j][1], list[j][0]))"
   ]
  }
 ],
 "metadata": {
  "kernelspec": {
   "display_name": "Python 3",
   "language": "python",
   "name": "python3"
  },
  "language_info": {
   "codemirror_mode": {
    "name": "ipython",
    "version": 3
   },
   "file_extension": ".py",
   "mimetype": "text/x-python",
   "name": "python",
   "nbconvert_exporter": "python",
   "pygments_lexer": "ipython3",
   "version": "3.7.3"
  }
 },
 "nbformat": 4,
 "nbformat_minor": 4
}

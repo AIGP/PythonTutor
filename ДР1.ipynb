{
 "cells": [
  {
   "cell_type": "markdown",
   "metadata": {},
   "source": [
    "# #Задание 1.2"
   ]
  },
  {
   "cell_type": "code",
   "execution_count": null,
   "metadata": {},
   "outputs": [],
   "source": [
    "# Числа b и h можно считывать так:\n",
    "b = int(input())\n",
    "h=int(input())\n",
    "# Выводите результат через print()\n",
    "print(b*h/2)"
   ]
  },
  {
   "cell_type": "markdown",
   "metadata": {},
   "source": [
    "# #Задание 2.2"
   ]
  },
  {
   "cell_type": "code",
   "execution_count": null,
   "metadata": {},
   "outputs": [],
   "source": [
    "def sign(x):\n",
    "    if(x>0):\n",
    "        return(1)\n",
    "    elif(x<0):\n",
    "        return(-1)\n",
    "    else:\n",
    "        return(0)\n",
    "x=int(input())\n",
    "print(sign(x))"
   ]
  },
  {
   "cell_type": "markdown",
   "metadata": {},
   "source": [
    "# #Задание 3.15"
   ]
  },
  {
   "cell_type": "code",
   "execution_count": null,
   "metadata": {},
   "outputs": [],
   "source": [
    "a=float(input())\n",
    "hour=int(a//30)\n",
    "minute=int(a//0.5-60*hour)\n",
    "sec=int(a//0.008333333333333-60*60*hour-60*minute)\n",
    "print(hour)\n",
    "print(minute)\n",
    "print(sec)"
   ]
  },
  {
   "cell_type": "markdown",
   "metadata": {},
   "source": [
    "# #Задание 4.3"
   ]
  },
  {
   "cell_type": "code",
   "execution_count": 8,
   "metadata": {},
   "outputs": [
    {
     "name": "stdout",
     "output_type": "stream",
     "text": [
      "-18\n",
      "-6\n",
      "-19\n",
      "-17\n",
      "-15\n",
      "-13\n",
      "-11\n",
      "-9\n",
      "-7\n"
     ]
    }
   ],
   "source": [
    "a=int(input())\n",
    "b=int(input())\n",
    "for i in range(a-(1-a%2),b+1,2):\n",
    "    print(i)"
   ]
  },
  {
   "cell_type": "markdown",
   "metadata": {},
   "source": [
    "# #Задание 5.11"
   ]
  },
  {
   "cell_type": "code",
   "execution_count": 29,
   "metadata": {},
   "outputs": [
    {
     "name": "stdout",
     "output_type": "stream",
     "text": [
      "hHHHhhhhh\n",
      "hHHHHHHHh\n"
     ]
    }
   ],
   "source": [
    "str=input()\n",
    "new_s=str[1:len(str)-1]\n",
    "new_s.replace(\"h\",\"H\")\n",
    "print(\"\"+str[0]+new_s.replace(\"h\",\"H\")+str[len(str)-1])\n",
    "#print(str[1]+new_s)"
   ]
  },
  {
   "cell_type": "code",
   "execution_count": null,
   "metadata": {},
   "outputs": [],
   "source": []
  }
 ],
 "metadata": {
  "kernelspec": {
   "display_name": "Python 3",
   "language": "python",
   "name": "python3"
  },
  "language_info": {
   "codemirror_mode": {
    "name": "ipython",
    "version": 3
   },
   "file_extension": ".py",
   "mimetype": "text/x-python",
   "name": "python",
   "nbconvert_exporter": "python",
   "pygments_lexer": "ipython3",
   "version": "3.6.8"
  }
 },
 "nbformat": 4,
 "nbformat_minor": 2
}

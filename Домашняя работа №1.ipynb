{
 "cells": [
  {
   "cell_type": "markdown",
   "metadata": {},
   "source": [
    "# #Задание 1.2"
   ]
  },
  {
   "cell_type": "code",
   "execution_count": null,
   "metadata": {},
   "outputs": [],
   "source": [
    "# Числа b и h можно считывать так:\n",
    "b = int(input())\n",
    "h=int(input())\n",
    "# Выводите результат через print()\n",
    "print(b*h/2)"
   ]
  },
  {
   "cell_type": "markdown",
   "metadata": {},
   "source": [
    "# #Задание 2.2"
   ]
  },
  {
   "cell_type": "code",
   "execution_count": null,
   "metadata": {},
   "outputs": [],
   "source": [
    "def sign(x):\n",
    "    if(x>0):\n",
    "        return(1)\n",
    "    elif(x<0):\n",
    "        return(-1)\n",
    "    else:\n",
    "        return(0)\n",
    "x=int(input())\n",
    "print(sign(x))"
   ]
  },
  {
   "cell_type": "markdown",
   "metadata": {},
   "source": [
    "# #Задание 3.15"
   ]
  },
  {
   "cell_type": "code",
   "execution_count": 34,
   "metadata": {},
   "outputs": [
    {
     "name": "stdout",
     "output_type": "stream",
     "text": [
      "30\n",
      "1 0 0\n"
     ]
    }
   ],
   "source": [
    "a=float(input())\n",
    "hour=int(a//30)\n",
    "minute=int(a//0.5-60*hour)\n",
    "sec=int(a//0.008333333333333-60*60*hour-60*minute)\n",
    "print(hour, minute, sec)"
   ]
  },
  {
   "cell_type": "markdown",
   "metadata": {},
   "source": [
    "# #Задание 4.3"
   ]
  },
  {
   "cell_type": "code",
   "execution_count": 35,
   "metadata": {},
   "outputs": [
    {
     "name": "stdout",
     "output_type": "stream",
     "text": [
      "7\n",
      "1\n",
      "7\n",
      "5\n",
      "3\n",
      "1\n"
     ]
    }
   ],
   "source": [
    "a=int(input())\n",
    "b=int(input())\n",
    "for i in range(a-(1-a%2),b-1,-2):\n",
    "    print(i)"
   ]
  },
  {
   "cell_type": "markdown",
   "metadata": {},
   "source": [
    "# #Задание 5.11"
   ]
  },
  {
   "cell_type": "code",
   "execution_count": 85,
   "metadata": {},
   "outputs": [
    {
     "name": "stdout",
     "output_type": "stream",
     "text": [
      "aahaaahaah\n",
      "9\n",
      "aahaaaHaah\n"
     ]
    }
   ],
   "source": [
    "str=input()\n",
    "new_s=str.replace(\"h\", \"H\")\n",
    "new_s=new_s.replace(\"H\", \"h\", 1)\n",
    "print(new_s[:str.rfind(\"h\")]+str[str.rfind(\"h\")]+new_s[str.rfind(\"h\")+1:])"
   ]
  }
 ],
 "metadata": {
  "kernelspec": {
   "display_name": "Python 3",
   "language": "python",
   "name": "python3"
  },
  "language_info": {
   "codemirror_mode": {
    "name": "ipython",
    "version": 3
   },
   "file_extension": ".py",
   "mimetype": "text/x-python",
   "name": "python",
   "nbconvert_exporter": "python",
   "pygments_lexer": "ipython3",
   "version": "3.6.8"
  }
 },
 "nbformat": 4,
 "nbformat_minor": 2
}
